{
 "cells": [
  {
   "cell_type": "markdown",
   "id": "e817fcd5-30d7-4b79-bc44-c33555f2f5e8",
   "metadata": {},
   "source": [
    "## Instruction\n",
    "This file details the preparations needed to run Gaussian.ipynb."
   ]
  },
  {
   "cell_type": "markdown",
   "id": "705e1fd4-6fae-4bb5-85b7-cb43e7ee15de",
   "metadata": {},
   "source": [
    "First, you need to download the packages required to run the code, including:\n",
    "* `requests`\n",
    "* `datetime`\n",
    "* `pysolar.solar`\n",
    "* `pytz`\n",
    "* `numpy`\n",
    "* `csv`\n",
    "* `mpl_toolkits.mplot3d`\n",
    "* `from bokeh.io import output_notebookdisplay`\n",
    "* `from bokeh.io import show`\n",
    "* `from bokeh.plotting import gmap`\n",
    "* `from bokeh.models import GMapOptions`\n",
    "* `from bokeh.transform import linear_cmap`\n",
    "* `from bokeh.models import ColumnDataSource`\n",
    "* `from bokeh.palettes import Plasma256 as palette`\n",
    "* `from bokeh.models import ColorBar`\n",
    "* `import os`"
   ]
  },
  {
   "cell_type": "markdown",
   "id": "ff788097-7740-416c-831e-9b4787119865",
   "metadata": {},
   "source": [
    "Then you need to get your own open weather map and apikeys for google map."
   ]
  },
  {
   "cell_type": "raw",
   "id": "4d0f4eaa-e970-4e67-bdbf-5f9f60256782",
   "metadata": {},
   "source": [
    "API_KEY = ' tpye your open weather apikey'"
   ]
  },
  {
   "cell_type": "markdown",
   "id": "6b01ba91-1692-4428-b898-8922abc19ece",
   "metadata": {},
   "source": [
    "For Google map, you need to open the console in advance to set environment variables. If you are an Apple or Linux system, enter `export GOOGLE_API_KEY=<your_key>`. For Windows systems enter `set GOOGLE_API_KEY=<your_key>`. Once set up, run the code."
   ]
  },
  {
   "cell_type": "code",
   "execution_count": null,
   "id": "2c715da8-5910-45b6-b90d-8a9bf37f934b",
   "metadata": {},
   "outputs": [],
   "source": [
    "os.environ[\"GOOGLE_API_KEY\"] = \"your_key\"\n",
    "api_key = os.environ[\"GOOGLE_API_KEY\"]"
   ]
  },
  {
   "cell_type": "markdown",
   "id": "8bcf4dce-85dd-4780-b885-a5fe9ffff7a2",
   "metadata": {},
   "source": [
    "Finally, you need to input a point source coordinate, let the program simulate the Gaussian diffusion of the point source point, Beijing is taken as an example in this article. If you want to adjust the Google map drawing style, you can change the type of colorbar and maptype."
   ]
  },
  {
   "cell_type": "code",
   "execution_count": null,
   "id": "de236de8-5936-4c82-a348-e6e4647c49ca",
   "metadata": {},
   "outputs": [],
   "source": [
    "# Specify the latitude and longitude of the location (Beijing is taken as an example)\n",
    "lat = 39.9096834\n",
    "lon = 116.398954"
   ]
  },
  {
   "cell_type": "code",
   "execution_count": null,
   "id": "fd6d7924-4a82-47ec-befd-0b28077409c3",
   "metadata": {},
   "outputs": [],
   "source": [
    "latitude_ref = 39.9096834  # Reference latitude (Beijing is taken as an example)\n",
    "longitude_ref = 116.398954  # Reference longitude (Beijing is taken as an example)\n",
    " "
   ]
  },
  {
   "cell_type": "code",
   "execution_count": null,
   "id": "ee7caaa3-e190-4b38-9951-54fe49e9ea43",
   "metadata": {},
   "outputs": [],
   "source": []
  }
 ],
 "metadata": {
  "kernelspec": {
   "display_name": "Python 3 (ipykernel)",
   "language": "python",
   "name": "python3"
  },
  "language_info": {
   "codemirror_mode": {
    "name": "ipython",
    "version": 3
   },
   "file_extension": ".py",
   "mimetype": "text/x-python",
   "name": "python",
   "nbconvert_exporter": "python",
   "pygments_lexer": "ipython3",
   "version": "3.9.12"
  }
 },
 "nbformat": 4,
 "nbformat_minor": 5
}
